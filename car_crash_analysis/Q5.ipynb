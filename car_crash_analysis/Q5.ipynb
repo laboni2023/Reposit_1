{
 "cells": [
  {
   "cell_type": "markdown",
   "metadata": {
    "application/vnd.databricks.v1+cell": {
     "cellMetadata": {
      "byteLimit": 2048000,
      "rowLimit": 10000
     },
     "inputWidgets": {},
     "nuid": "b586216c-974a-4a0e-9d05-b1265cc70c13",
     "showTitle": false,
     "title": ""
    }
   },
   "source": [
    "Q5)For all the body styles involved in crashes, mention the top ethnic user group of each unique body style "
   ]
  },
  {
   "cell_type": "code",
   "execution_count": 0,
   "metadata": {
    "application/vnd.databricks.v1+cell": {
     "cellMetadata": {
      "byteLimit": 2048000,
      "rowLimit": 10000
     },
     "inputWidgets": {},
     "nuid": "842c0532-9b64-4fe8-89bc-0297852c3864",
     "showTitle": false,
     "title": ""
    }
   },
   "outputs": [],
   "source": [
    "from pyspark.sql.functions import *\n",
    "from pyspark.sql.window import *"
   ]
  },
  {
   "cell_type": "code",
   "execution_count": 0,
   "metadata": {
    "application/vnd.databricks.v1+cell": {
     "cellMetadata": {
      "byteLimit": 2048000,
      "rowLimit": 10000
     },
     "inputWidgets": {},
     "nuid": "a901c58f-8353-4cda-8148-015b001dc23f",
     "showTitle": true,
     "title": "Reading primary_person dataset"
    }
   },
   "outputs": [],
   "source": [
    "df_prim_person=spark.read.format(\"csv\").option(\"inferschema\",True).option(\"header\",True).load(\"dbfs:/FileStore/Primary_Person_use.csv\")"
   ]
  },
  {
   "cell_type": "code",
   "execution_count": 0,
   "metadata": {
    "application/vnd.databricks.v1+cell": {
     "cellMetadata": {
      "byteLimit": 2048000,
      "rowLimit": 10000
     },
     "inputWidgets": {},
     "nuid": "a69d9de4-8847-4506-a4f3-8030ff63eee5",
     "showTitle": true,
     "title": "Reading Units dataset"
    }
   },
   "outputs": [],
   "source": [
    "df_units=spark.read.format(\"csv\").option(\"inferschema\",True).option(\"header\",True).load(\"dbfs:/FileStore/Units_use.csv\")"
   ]
  },
  {
   "cell_type": "markdown",
   "metadata": {
    "application/vnd.databricks.v1+cell": {
     "cellMetadata": {
      "byteLimit": 2048000,
      "rowLimit": 10000
     },
     "inputWidgets": {},
     "nuid": "562f1e1c-e15b-4a7d-bc6b-320f28d58990",
     "showTitle": false,
     "title": ""
    }
   },
   "source": [
    "A single person in the primary_person dataset is uniquely  identified by (CRASH_ID , UNIT_NBR , PRSN_NBR)"
   ]
  },
  {
   "cell_type": "code",
   "execution_count": 0,
   "metadata": {
    "application/vnd.databricks.v1+cell": {
     "cellMetadata": {
      "byteLimit": 2048000,
      "rowLimit": 10000
     },
     "inputWidgets": {},
     "nuid": "32f963b3-2847-4fb8-b3dc-993d5a2238a1",
     "showTitle": false,
     "title": ""
    }
   },
   "outputs": [
    {
     "output_type": "stream",
     "name": "stdout",
     "output_type": "stream",
     "text": [
      "+--------+\n|PRSN_NBR|\n+--------+\n|       1|\n+--------+\n\n"
     ]
    }
   ],
   "source": [
    "df_prim_person.select(\"PRSN_NBR\").distinct().show()"
   ]
  },
  {
   "cell_type": "markdown",
   "metadata": {
    "application/vnd.databricks.v1+cell": {
     "cellMetadata": {
      "byteLimit": 2048000,
      "rowLimit": 10000
     },
     "inputWidgets": {},
     "nuid": "50975c82-d87f-4d30-b767-4d9b12fc7f18",
     "showTitle": false,
     "title": ""
    }
   },
   "source": [
    "As PRSN_NBR is same for all records in primary_person dataset, we can uniquely identify each person just by (CRASH_ID , UNIT_NBR )"
   ]
  },
  {
   "cell_type": "code",
   "execution_count": 0,
   "metadata": {
    "application/vnd.databricks.v1+cell": {
     "cellMetadata": {
      "byteLimit": 2048000,
      "rowLimit": 10000
     },
     "inputWidgets": {},
     "nuid": "f5b449d7-2480-41ba-af31-f74d928d5277",
     "showTitle": true,
     "title": "Reading the Charges Dataset"
    }
   },
   "outputs": [],
   "source": [
    "df_charges=spark.read.format(\"csv\").option(\"inferschema\",True).option(\"header\",True).load(\"dbfs:/FileStore/Charges_use.csv\")"
   ]
  },
  {
   "cell_type": "code",
   "execution_count": 0,
   "metadata": {
    "application/vnd.databricks.v1+cell": {
     "cellMetadata": {
      "byteLimit": 2048000,
      "rowLimit": 10000
     },
     "inputWidgets": {},
     "nuid": "1f01476f-6dbd-42a1-934e-c3be80f4f807",
     "showTitle": false,
     "title": ""
    }
   },
   "outputs": [
    {
     "output_type": "stream",
     "name": "stdout",
     "output_type": "stream",
     "text": [
      "+--------+--------+--------------------+-----------------+\n|CRASH_ID|UNIT_NBR|    VEH_BODY_STYL_ID|PRSN_ETHNICITY_ID|\n+--------+--------+--------------------+-----------------+\n|14768622|       1|PASSENGER CAR, 4-...|         HISPANIC|\n|14838637|       1|PASSENGER CAR, 4-...|            WHITE|\n|14838637|       2|               TRUCK|            BLACK|\n|14838637|       2|               TRUCK|            BLACK|\n|14838641|       1|PASSENGER CAR, 4-...|            WHITE|\n|14838641|       2|SPORT UTILITY VEH...|            BLACK|\n|14838668|       1|PASSENGER CAR, 4-...|         HISPANIC|\n|14838669|       1|              PICKUP|            WHITE|\n|14838669|       2|PASSENGER CAR, 4-...|            WHITE|\n|14838670|       1|SPORT UTILITY VEH...|            WHITE|\n|14838685|       1|PASSENGER CAR, 4-...|            BLACK|\n|14838693|       1|              PICKUP|         HISPANIC|\n|14838768|       1|SPORT UTILITY VEH...|            ASIAN|\n|14838768|       2|PASSENGER CAR, 4-...|         HISPANIC|\n|14838834|       1|              PICKUP|         HISPANIC|\n|14838841|       1|PASSENGER CAR, 4-...|         HISPANIC|\n|14838842|       1|PASSENGER CAR, 4-...|         HISPANIC|\n|14838842|       2|PASSENGER CAR, 4-...|         HISPANIC|\n|14838866|       1|PASSENGER CAR, 4-...|            WHITE|\n|14838877|       1|              PICKUP|            WHITE|\n+--------+--------+--------------------+-----------------+\nonly showing top 20 rows\n\n"
     ]
    }
   ],
   "source": [
    "df_prim_person.join(df_units,(df_prim_person.CRASH_ID==df_units.CRASH_ID) \n",
    " & (df_prim_person.UNIT_NBR==df_units.UNIT_NBR)  ).select(df_units.CRASH_ID,df_units.UNIT_NBR,\"VEH_BODY_STYL_ID\",\"PRSN_ETHNICITY_ID\").show()"
   ]
  },
  {
   "cell_type": "code",
   "execution_count": 0,
   "metadata": {
    "application/vnd.databricks.v1+cell": {
     "cellMetadata": {
      "byteLimit": 2048000,
      "rowLimit": 10000
     },
     "inputWidgets": {},
     "nuid": "3560a8f9-b5f3-43b4-bc77-792ff44291c7",
     "showTitle": true,
     "title": "df_temp1 is defined"
    }
   },
   "outputs": [],
   "source": [
    "df_temp1=df_prim_person.join(df_units,(df_prim_person.CRASH_ID==df_units.CRASH_ID) \n",
    " & (df_prim_person.UNIT_NBR==df_units.UNIT_NBR)  ).select(df_units.CRASH_ID,df_units.UNIT_NBR,\"VEH_BODY_STYL_ID\",\"PRSN_ETHNICITY_ID\")"
   ]
  },
  {
   "cell_type": "markdown",
   "metadata": {
    "application/vnd.databricks.v1+cell": {
     "cellMetadata": {
      "byteLimit": 2048000,
      "rowLimit": 10000
     },
     "inputWidgets": {},
     "nuid": "a4b048b9-0c27-487a-a0c4-fe9f29343d13",
     "showTitle": false,
     "title": ""
    }
   },
   "source": [
    "Removing undesired values of 'vehicle body style' and 'ethinicity'"
   ]
  },
  {
   "cell_type": "code",
   "execution_count": 0,
   "metadata": {
    "application/vnd.databricks.v1+cell": {
     "cellMetadata": {
      "byteLimit": 2048000,
      "rowLimit": 10000
     },
     "inputWidgets": {},
     "nuid": "ce7f71b7-6c44-4d2d-81ab-ada9e5cfcada",
     "showTitle": true,
     "title": "df_temp2 is defined"
    }
   },
   "outputs": [],
   "source": [
    "df_temp2=df_temp1.filter((col(\"VEH_BODY_STYL_ID\")!=\"NA\") & (col(\"PRSN_ETHNICITY_ID\")!=\"NA\")).filter((col(\"VEH_BODY_STYL_ID\")!=\"UNKNOWN\") & (col(\"PRSN_ETHNICITY_ID\")!=\"UNKNOWN\"))"
   ]
  },
  {
   "cell_type": "code",
   "execution_count": 0,
   "metadata": {
    "application/vnd.databricks.v1+cell": {
     "cellMetadata": {
      "byteLimit": 2048000,
      "rowLimit": 10000
     },
     "inputWidgets": {},
     "nuid": "66d14abe-ab85-4003-88d6-b8aa53ea54d1",
     "showTitle": false,
     "title": ""
    }
   },
   "outputs": [
    {
     "output_type": "stream",
     "name": "stdout",
     "output_type": "stream",
     "text": [
      "+--------------------+--------------------+-----+\n|    VEH_BODY_STYL_ID|   PRSN_ETHNICITY_ID|count|\n+--------------------+--------------------+-----+\n|      FARM EQUIPMENT|               WHITE|   27|\n|       TRUCK TRACTOR|               BLACK| 1130|\n|       TRUCK TRACTOR|               ASIAN|   64|\n|                 VAN|AMER. INDIAN/ALAS...|    9|\n|          MOTORCYCLE|               ASIAN|    2|\n|                 BUS|               BLACK|  157|\n|                 BUS|               WHITE|  123|\n|SPORT UTILITY VEH...|               ASIAN| 1018|\n|                 VAN|            HISPANIC| 2029|\n|           AMBULANCE|            HISPANIC|   11|\n|OTHER  (EXPLAIN I...|               ASIAN|    5|\n|                 VAN|               BLACK|  691|\n|SPORT UTILITY VEH...|            HISPANIC|10619|\n|                 BUS|            HISPANIC|  158|\n|              PICKUP|               BLACK| 2443|\n|              PICKUP|AMER. INDIAN/ALAS...|   31|\n|          MOTORCYCLE|               BLACK|   75|\n|PASSENGER CAR, 4-...|            HISPANIC|20137|\n|               TRUCK|               ASIAN|   44|\n|    POLICE CAR/TRUCK|               WHITE|  182|\n+--------------------+--------------------+-----+\nonly showing top 20 rows\n\n"
     ]
    }
   ],
   "source": [
    "df_temp2.groupBy(\"VEH_BODY_STYL_ID\",\"PRSN_ETHNICITY_ID\").count().show()"
   ]
  },
  {
   "cell_type": "code",
   "execution_count": 0,
   "metadata": {
    "application/vnd.databricks.v1+cell": {
     "cellMetadata": {
      "byteLimit": 2048000,
      "rowLimit": 10000
     },
     "inputWidgets": {},
     "nuid": "0760e616-96d2-422d-abb1-f71083e15a1c",
     "showTitle": true,
     "title": "df_temp3 is defined"
    }
   },
   "outputs": [],
   "source": [
    "df_temp3=df_temp2.groupBy(\"VEH_BODY_STYL_ID\",\"PRSN_ETHNICITY_ID\").count()"
   ]
  },
  {
   "cell_type": "code",
   "execution_count": 0,
   "metadata": {
    "application/vnd.databricks.v1+cell": {
     "cellMetadata": {
      "byteLimit": 2048000,
      "rowLimit": 10000
     },
     "inputWidgets": {},
     "nuid": "11c8b04a-8e7a-4e6a-99e2-4636e3c7eafd",
     "showTitle": false,
     "title": ""
    }
   },
   "outputs": [],
   "source": [
    "window=Window.partitionBy(\"VEH_BODY_STYL_ID\").orderBy(desc(\"count\"))"
   ]
  },
  {
   "cell_type": "code",
   "execution_count": 0,
   "metadata": {
    "application/vnd.databricks.v1+cell": {
     "cellMetadata": {
      "byteLimit": 2048000,
      "rowLimit": 10000
     },
     "inputWidgets": {},
     "nuid": "ee823ecd-5ea6-4be8-928c-e35e1633e995",
     "showTitle": false,
     "title": ""
    }
   },
   "outputs": [
    {
     "output_type": "stream",
     "name": "stdout",
     "output_type": "stream",
     "text": [
      "+----------------+-----------------+-----+----+\n|VEH_BODY_STYL_ID|PRSN_ETHNICITY_ID|count|rank|\n+----------------+-----------------+-----+----+\n|       AMBULANCE|            WHITE|   55|   1|\n|       AMBULANCE|         HISPANIC|   11|   2|\n|       AMBULANCE|            BLACK|    8|   3|\n|       AMBULANCE|            OTHER|    4|   4|\n|       AMBULANCE|            ASIAN|    1|   5|\n|             BUS|         HISPANIC|  158|   1|\n|             BUS|            BLACK|  157|   2|\n|             BUS|            WHITE|  123|   3|\n|             BUS|            ASIAN|   11|   4|\n|             BUS|            OTHER|    4|   5|\n|  FARM EQUIPMENT|            WHITE|   27|   1|\n|  FARM EQUIPMENT|         HISPANIC|   19|   2|\n|  FARM EQUIPMENT|            BLACK|    7|   3|\n|      FIRE TRUCK|            WHITE|   64|   1|\n|      FIRE TRUCK|            BLACK|    9|   2|\n|      FIRE TRUCK|         HISPANIC|    4|   3|\n|      FIRE TRUCK|            OTHER|    2|   4|\n|      MOTORCYCLE|            WHITE|  499|   1|\n|      MOTORCYCLE|         HISPANIC|  166|   2|\n|      MOTORCYCLE|            BLACK|   75|   3|\n+----------------+-----------------+-----+----+\nonly showing top 20 rows\n\n"
     ]
    }
   ],
   "source": [
    "df_temp3.withColumn(\"rank\",dense_rank().over(window)).show()"
   ]
  },
  {
   "cell_type": "code",
   "execution_count": 0,
   "metadata": {
    "application/vnd.databricks.v1+cell": {
     "cellMetadata": {
      "byteLimit": 2048000,
      "rowLimit": 10000
     },
     "inputWidgets": {},
     "nuid": "359c613b-50fa-40cb-a568-8944a78f0dce",
     "showTitle": true,
     "title": "df_temp4 is defined"
    }
   },
   "outputs": [],
   "source": [
    "df_temp4=df_temp3.withColumn(\"rank\",dense_rank().over(window))"
   ]
  },
  {
   "cell_type": "code",
   "execution_count": 0,
   "metadata": {
    "application/vnd.databricks.v1+cell": {
     "cellMetadata": {
      "byteLimit": 2048000,
      "rowLimit": 10000
     },
     "inputWidgets": {},
     "nuid": "70c57593-ac90-4475-b0f2-58d1b0ed1db0",
     "showTitle": true,
     "title": "ANSWER:"
    }
   },
   "outputs": [
    {
     "output_type": "display_data",
     "data": {
      "text/html": [
       "<style scoped>\n",
       "  .table-result-container {\n",
       "    max-height: 300px;\n",
       "    overflow: auto;\n",
       "  }\n",
       "  table, th, td {\n",
       "    border: 1px solid black;\n",
       "    border-collapse: collapse;\n",
       "  }\n",
       "  th, td {\n",
       "    padding: 5px;\n",
       "  }\n",
       "  th {\n",
       "    text-align: left;\n",
       "  }\n",
       "</style><div class='table-result-container'><table class='table-result'><thead style='background-color: white'><tr><th>VEH_BODY_STYL_ID</th><th>PRSN_ETHNICITY_ID</th></tr></thead><tbody><tr><td>AMBULANCE</td><td>WHITE</td></tr><tr><td>BUS</td><td>HISPANIC</td></tr><tr><td>FARM EQUIPMENT</td><td>WHITE</td></tr><tr><td>FIRE TRUCK</td><td>WHITE</td></tr><tr><td>MOTORCYCLE</td><td>WHITE</td></tr><tr><td>NEV-NEIGHBORHOOD ELECTRIC VEHICLE</td><td>WHITE</td></tr><tr><td>NOT REPORTED</td><td>WHITE</td></tr><tr><td>OTHER  (EXPLAIN IN NARRATIVE)</td><td>WHITE</td></tr><tr><td>PASSENGER CAR, 2-DOOR</td><td>WHITE</td></tr><tr><td>PASSENGER CAR, 4-DOOR</td><td>WHITE</td></tr><tr><td>PICKUP</td><td>WHITE</td></tr><tr><td>POLICE CAR/TRUCK</td><td>WHITE</td></tr><tr><td>POLICE MOTORCYCLE</td><td>WHITE</td></tr><tr><td>SPORT UTILITY VEHICLE</td><td>WHITE</td></tr><tr><td>TRUCK</td><td>WHITE</td></tr><tr><td>TRUCK TRACTOR</td><td>WHITE</td></tr><tr><td>VAN</td><td>WHITE</td></tr><tr><td>YELLOW SCHOOL BUS</td><td>BLACK</td></tr></tbody></table></div>"
      ]
     },
     "metadata": {
      "application/vnd.databricks.v1+output": {
       "addedWidgets": {},
       "aggData": [],
       "aggError": "",
       "aggOverflow": false,
       "aggSchema": [],
       "aggSeriesLimitReached": false,
       "aggType": "",
       "arguments": {},
       "columnCustomDisplayInfos": {},
       "data": [
        [
         "AMBULANCE",
         "WHITE"
        ],
        [
         "BUS",
         "HISPANIC"
        ],
        [
         "FARM EQUIPMENT",
         "WHITE"
        ],
        [
         "FIRE TRUCK",
         "WHITE"
        ],
        [
         "MOTORCYCLE",
         "WHITE"
        ],
        [
         "NEV-NEIGHBORHOOD ELECTRIC VEHICLE",
         "WHITE"
        ],
        [
         "NOT REPORTED",
         "WHITE"
        ],
        [
         "OTHER  (EXPLAIN IN NARRATIVE)",
         "WHITE"
        ],
        [
         "PASSENGER CAR, 2-DOOR",
         "WHITE"
        ],
        [
         "PASSENGER CAR, 4-DOOR",
         "WHITE"
        ],
        [
         "PICKUP",
         "WHITE"
        ],
        [
         "POLICE CAR/TRUCK",
         "WHITE"
        ],
        [
         "POLICE MOTORCYCLE",
         "WHITE"
        ],
        [
         "SPORT UTILITY VEHICLE",
         "WHITE"
        ],
        [
         "TRUCK",
         "WHITE"
        ],
        [
         "TRUCK TRACTOR",
         "WHITE"
        ],
        [
         "VAN",
         "WHITE"
        ],
        [
         "YELLOW SCHOOL BUS",
         "BLACK"
        ]
       ],
       "datasetInfos": [],
       "dbfsResultPath": null,
       "isJsonSchema": true,
       "metadata": {},
       "overflow": false,
       "plotOptions": {
        "customPlotOptions": {},
        "displayType": "table",
        "pivotAggregation": null,
        "pivotColumns": null,
        "xColumns": null,
        "yColumns": null
       },
       "removedWidgets": [],
       "schema": [
        {
         "metadata": "{}",
         "name": "VEH_BODY_STYL_ID",
         "type": "\"string\""
        },
        {
         "metadata": "{}",
         "name": "PRSN_ETHNICITY_ID",
         "type": "\"string\""
        }
       ],
       "type": "table"
      }
     },
     "output_type": "display_data"
    }
   ],
   "source": [
    "display(df_temp4.filter(col(\"rank\")==1).select(\"VEH_BODY_STYL_ID\",\"PRSN_ETHNICITY_ID\"))"
   ]
  }
 ],
 "metadata": {
  "application/vnd.databricks.v1+notebook": {
   "dashboards": [],
   "language": "python",
   "notebookMetadata": {
    "pythonIndentUnit": 4
   },
   "notebookName": "Q5",
   "widgets": {}
  }
 },
 "nbformat": 4,
 "nbformat_minor": 0
}
