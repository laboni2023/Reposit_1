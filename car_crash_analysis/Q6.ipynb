{
 "cells": [
  {
   "cell_type": "markdown",
   "metadata": {
    "application/vnd.databricks.v1+cell": {
     "cellMetadata": {
      "byteLimit": 2048000,
      "rowLimit": 10000
     },
     "inputWidgets": {},
     "nuid": "30e9c4d0-2a7c-4e53-97e0-b7cf8f29e69f",
     "showTitle": false,
     "title": ""
    }
   },
   "source": [
    "Q6)Among the crashed cars, what are the Top 5 Zip Codes with highest number crashes with alcohols as the contributing factor to a crash (Use Driver Zip Code)"
   ]
  },
  {
   "cell_type": "code",
   "execution_count": 0,
   "metadata": {
    "application/vnd.databricks.v1+cell": {
     "cellMetadata": {
      "byteLimit": 2048000,
      "rowLimit": 10000
     },
     "inputWidgets": {},
     "nuid": "497f34fd-b823-435c-859d-81ccc70dba9a",
     "showTitle": false,
     "title": ""
    }
   },
   "outputs": [],
   "source": [
    "from pyspark.sql.functions import *\n",
    "from pyspark.sql.window import *"
   ]
  },
  {
   "cell_type": "code",
   "execution_count": 0,
   "metadata": {
    "application/vnd.databricks.v1+cell": {
     "cellMetadata": {
      "byteLimit": 2048000,
      "rowLimit": 10000
     },
     "inputWidgets": {},
     "nuid": "7c8d9b16-2efd-4f56-b380-e3564979facc",
     "showTitle": true,
     "title": "Reading the primary_person dataset"
    }
   },
   "outputs": [],
   "source": [
    "df_prim_person=spark.read.format(\"csv\").option(\"inferschema\",True).option(\"header\",True).load(\"dbfs:/FileStore/Primary_Person_use.csv\")"
   ]
  },
  {
   "cell_type": "code",
   "execution_count": 0,
   "metadata": {
    "application/vnd.databricks.v1+cell": {
     "cellMetadata": {
      "byteLimit": 2048000,
      "rowLimit": 10000
     },
     "inputWidgets": {},
     "nuid": "6c0dd2b9-05eb-4bf8-b5a6-c4fcd65a6168",
     "showTitle": false,
     "title": ""
    }
   },
   "outputs": [
    {
     "output_type": "stream",
     "name": "stdout",
     "output_type": "stream",
     "text": [
      "+----------------+\n|PRSN_ALC_RSLT_ID|\n+----------------+\n|              NA|\n|        Positive|\n|        Negative|\n+----------------+\n\n"
     ]
    }
   ],
   "source": [
    "df_prim_person.select(\"PRSN_ALC_RSLT_ID\").distinct().show()"
   ]
  },
  {
   "cell_type": "code",
   "execution_count": 0,
   "metadata": {
    "application/vnd.databricks.v1+cell": {
     "cellMetadata": {
      "byteLimit": 2048000,
      "rowLimit": 10000
     },
     "inputWidgets": {},
     "nuid": "b3fc1e32-1a9c-49ff-b6ee-c5352fa41d76",
     "showTitle": true,
     "title": "df_temp1 is defined"
    }
   },
   "outputs": [],
   "source": [
    "df_temp1=df_prim_person.filter((col(\"PRSN_ALC_RSLT_ID\")==\"Positive\") & (col(\"DRVR_ZIP\")!=\"null\"))"
   ]
  },
  {
   "cell_type": "code",
   "execution_count": 0,
   "metadata": {
    "application/vnd.databricks.v1+cell": {
     "cellMetadata": {
      "byteLimit": 2048000,
      "rowLimit": 10000
     },
     "inputWidgets": {},
     "nuid": "2d783f43-fc9f-4765-9e9e-d3cccc941740",
     "showTitle": true,
     "title": "Reading the Units Dataset"
    }
   },
   "outputs": [],
   "source": [
    "df_units=spark.read.format(\"csv\").option(\"inferschema\",True).option(\"header\",True).load(\"dbfs:/FileStore/Units_use.csv\")"
   ]
  },
  {
   "cell_type": "markdown",
   "metadata": {
    "application/vnd.databricks.v1+cell": {
     "cellMetadata": {
      "byteLimit": 2048000,
      "rowLimit": 10000
     },
     "inputWidgets": {},
     "nuid": "ad048359-38d0-4397-b410-902b9c232b5d",
     "showTitle": false,
     "title": ""
    }
   },
   "source": [
    "Columns renamed to avoid ambiguity after join"
   ]
  },
  {
   "cell_type": "code",
   "execution_count": 0,
   "metadata": {
    "application/vnd.databricks.v1+cell": {
     "cellMetadata": {
      "byteLimit": 2048000,
      "rowLimit": 10000
     },
     "inputWidgets": {},
     "nuid": "56b9f598-55ea-46a9-ba0c-7ff36a86a741",
     "showTitle": false,
     "title": ""
    }
   },
   "outputs": [],
   "source": [
    "df_temp1=df_temp1.withColumnRenamed(\"CRASH_ID\",\"crash_id2\").withColumnRenamed(\"UNIT_NBR\",\"unit_nbr2\")"
   ]
  },
  {
   "cell_type": "code",
   "execution_count": 0,
   "metadata": {
    "application/vnd.databricks.v1+cell": {
     "cellMetadata": {
      "byteLimit": 2048000,
      "rowLimit": 10000
     },
     "inputWidgets": {},
     "nuid": "74081ea4-5ef2-4070-aba1-2f9bb8df6260",
     "showTitle": true,
     "title": "df_temp2 is defined"
    }
   },
   "outputs": [],
   "source": [
    "df_temp2=df_temp1.join(df_units,(df_temp1.crash_id2==df_units.CRASH_ID)&(df_temp1.unit_nbr2==df_units.UNIT_NBR))"
   ]
  },
  {
   "cell_type": "code",
   "execution_count": 0,
   "metadata": {
    "application/vnd.databricks.v1+cell": {
     "cellMetadata": {
      "byteLimit": 2048000,
      "rowLimit": 10000
     },
     "inputWidgets": {},
     "nuid": "9a82faf1-3914-4ba8-b6aa-5aa5a01e5c8d",
     "showTitle": true,
     "title": "df_temp3 is defined"
    }
   },
   "outputs": [],
   "source": [
    "df_temp3=df_temp2.filter(col(\"VEH_BODY_STYL_ID\").like(\"%CAR%\"))"
   ]
  },
  {
   "cell_type": "code",
   "execution_count": 0,
   "metadata": {
    "application/vnd.databricks.v1+cell": {
     "cellMetadata": {
      "byteLimit": 2048000,
      "rowLimit": 10000
     },
     "inputWidgets": {},
     "nuid": "90853ae5-9d8e-4a53-a36f-99d67766d169",
     "showTitle": false,
     "title": ""
    }
   },
   "outputs": [
    {
     "output_type": "stream",
     "name": "stdout",
     "output_type": "stream",
     "text": [
      "+--------+--------+--------------------+----------------+--------+\n|CRASH_ID|UNIT_NBR|    VEH_BODY_STYL_ID|PRSN_ALC_RSLT_ID|DRVR_ZIP|\n+--------+--------+--------------------+----------------+--------+\n|14768622|       1|PASSENGER CAR, 4-...|        Positive|   77357|\n|14838637|       1|PASSENGER CAR, 4-...|        Positive|   13830|\n|14838668|       1|PASSENGER CAR, 4-...|        Positive|   78076|\n|14838669|       2|PASSENGER CAR, 4-...|        Positive|   76118|\n|14839517|       1|PASSENGER CAR, 4-...|        Positive|   75149|\n|14839966|       1|PASSENGER CAR, 4-...|        Positive|   79925|\n|14840063|       1|PASSENGER CAR, 4-...|        Positive|   78210|\n|14840787|       1|PASSENGER CAR, 4-...|        Positive|   78613|\n|14841522|       1|PASSENGER CAR, 4-...|        Positive|   75092|\n|14841802|       1|PASSENGER CAR, 4-...|        Positive|   76542|\n|14842078|       1|PASSENGER CAR, 4-...|        Positive|   78744|\n|14842183|       1|PASSENGER CAR, 4-...|        Positive|   78626|\n|14843028|       1|PASSENGER CAR, 4-...|        Positive|   79936|\n|14843082|       1|PASSENGER CAR, 4-...|        Positive|   75154|\n|14843205|       1|PASSENGER CAR, 2-...|        Positive|   76710|\n|14843214|       1|PASSENGER CAR, 4-...|        Positive|   76120|\n|14844356|       1|PASSENGER CAR, 4-...|        Positive|   75901|\n|14844412|       1|PASSENGER CAR, 4-...|        Positive|   76534|\n|14844822|       1|PASSENGER CAR, 4-...|        Positive|   75013|\n|14845479|       1|PASSENGER CAR, 4-...|        Positive|   75840|\n+--------+--------+--------------------+----------------+--------+\nonly showing top 20 rows\n\n"
     ]
    }
   ],
   "source": [
    "df_temp3.select(\"CRASH_ID\",\"UNIT_NBR\",\"VEH_BODY_STYL_ID\",\"PRSN_ALC_RSLT_ID\",\"DRVR_ZIP\").show()"
   ]
  },
  {
   "cell_type": "code",
   "execution_count": 0,
   "metadata": {
    "application/vnd.databricks.v1+cell": {
     "cellMetadata": {
      "byteLimit": 2048000,
      "rowLimit": 10000
     },
     "inputWidgets": {},
     "nuid": "8ca4ebd5-2beb-4634-9725-8713c373ea83",
     "showTitle": false,
     "title": ""
    }
   },
   "outputs": [
    {
     "output_type": "stream",
     "name": "stdout",
     "output_type": "stream",
     "text": [
      "+---------+-----+\n| DRVR_ZIP|count|\n+---------+-----+\n|    77339|    5|\n|    75007|    5|\n|    75602|    9|\n|    77371|    1|\n|    79849|    3|\n|    78382|    1|\n|    77303|    1|\n|    78211|    6|\n|    79360|    3|\n|    29401|    1|\n|763060000|    1|\n|    77062|    3|\n|    77302|    4|\n|    77375|    4|\n|    77871|    1|\n|    36869|    1|\n|    75763|    1|\n|    77471|    4|\n|    75219|    1|\n|    79705|    2|\n+---------+-----+\nonly showing top 20 rows\n\n"
     ]
    }
   ],
   "source": [
    "df_temp3.select(\"CRASH_ID\",\"DRVR_ZIP\").distinct().groupBy(\"DRVR_ZIP\").count().show()"
   ]
  },
  {
   "cell_type": "code",
   "execution_count": 0,
   "metadata": {
    "application/vnd.databricks.v1+cell": {
     "cellMetadata": {
      "byteLimit": 2048000,
      "rowLimit": 10000
     },
     "inputWidgets": {},
     "nuid": "0222a93d-f4ad-41cf-8ac1-8ac007f94ad8",
     "showTitle": true,
     "title": "df_temp4 is defined"
    }
   },
   "outputs": [],
   "source": [
    "df_temp4=df_temp3.select(\"CRASH_ID\",\"DRVR_ZIP\").distinct().groupBy(\"DRVR_ZIP\").count()"
   ]
  },
  {
   "cell_type": "code",
   "execution_count": 0,
   "metadata": {
    "application/vnd.databricks.v1+cell": {
     "cellMetadata": {
      "byteLimit": 2048000,
      "rowLimit": 10000
     },
     "inputWidgets": {},
     "nuid": "6bc514ae-2bea-4155-8fe3-904ba9864006",
     "showTitle": false,
     "title": ""
    }
   },
   "outputs": [
    {
     "output_type": "stream",
     "name": "stdout",
     "output_type": "stream",
     "text": [
      "+--------+----------------+\n|DRVR_ZIP|count_of_crashes|\n+--------+----------------+\n|   78521|              32|\n|   79936|              25|\n|   76010|              25|\n|   79938|              24|\n|   78240|              21|\n+--------+----------------+\nonly showing top 5 rows\n\n"
     ]
    }
   ],
   "source": [
    "df_temp4.orderBy(desc(\"count\")).withColumnRenamed(\"count\",\"count_of_crashes\").show(5)"
   ]
  }
 ],
 "metadata": {
  "application/vnd.databricks.v1+notebook": {
   "dashboards": [],
   "language": "python",
   "notebookMetadata": {
    "pythonIndentUnit": 4
   },
   "notebookName": "Q6",
   "widgets": {}
  }
 },
 "nbformat": 4,
 "nbformat_minor": 0
}
