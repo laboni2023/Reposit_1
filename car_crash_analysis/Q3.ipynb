{
 "cells": [
  {
   "cell_type": "markdown",
   "metadata": {
    "application/vnd.databricks.v1+cell": {
     "cellMetadata": {},
     "inputWidgets": {},
     "nuid": "42c72d3f-b48d-424b-8297-9a1cc684e09e",
     "showTitle": false,
     "title": ""
    }
   },
   "source": [
    "Q3)Which state has highest number of accidents in which females are involved?"
   ]
  },
  {
   "cell_type": "code",
   "execution_count": 0,
   "metadata": {
    "application/vnd.databricks.v1+cell": {
     "cellMetadata": {
      "byteLimit": 2048000,
      "rowLimit": 10000
     },
     "inputWidgets": {},
     "nuid": "d9ea0f7f-a2f6-486e-9e61-1be7d87f1d73",
     "showTitle": false,
     "title": ""
    }
   },
   "outputs": [],
   "source": [
    "from pyspark.sql.functions import *\n",
    "from pyspark.sql.window import *"
   ]
  },
  {
   "cell_type": "code",
   "execution_count": 0,
   "metadata": {
    "application/vnd.databricks.v1+cell": {
     "cellMetadata": {
      "byteLimit": 2048000,
      "rowLimit": 10000
     },
     "inputWidgets": {},
     "nuid": "f90605be-f77e-4334-9fa2-b1ae1b366b84",
     "showTitle": true,
     "title": "Reading the primary_person dataset"
    }
   },
   "outputs": [],
   "source": [
    "df_prim_person=spark.read.format(\"csv\").option(\"inferschema\",True).option(\"header\",True).load(\"dbfs:/FileStore/Primary_Person_use.csv\")"
   ]
  },
  {
   "cell_type": "markdown",
   "metadata": {
    "application/vnd.databricks.v1+cell": {
     "cellMetadata": {},
     "inputWidgets": {},
     "nuid": "bf392c20-ae41-4189-b3c3-f79dfe304215",
     "showTitle": false,
     "title": ""
    }
   },
   "source": [
    "Filtering out all the records in which person gender is female and also remove all the invalid entries for the state column "
   ]
  },
  {
   "cell_type": "code",
   "execution_count": 0,
   "metadata": {
    "application/vnd.databricks.v1+cell": {
     "cellMetadata": {
      "byteLimit": 2048000,
      "rowLimit": 10000
     },
     "inputWidgets": {},
     "nuid": "90e93642-2369-43c0-b739-526fd55e885f",
     "showTitle": true,
     "title": "df_temp1 is defined"
    }
   },
   "outputs": [],
   "source": [
    "df_temp1=df_prim_person.filter(col(\"PRSN_GNDR_ID\")==\"FEMALE\").filter(col(\"DRVR_LIC_STATE_ID\")!=\"NA\")"
   ]
  },
  {
   "cell_type": "markdown",
   "metadata": {
    "application/vnd.databricks.v1+cell": {
     "cellMetadata": {},
     "inputWidgets": {},
     "nuid": "527f07d4-ef88-4e77-80c9-e16fe3c93601",
     "showTitle": false,
     "title": ""
    }
   },
   "source": [
    "For every state , calculating the distinct number of crashes that took place "
   ]
  },
  {
   "cell_type": "code",
   "execution_count": 0,
   "metadata": {
    "application/vnd.databricks.v1+cell": {
     "cellMetadata": {
      "byteLimit": 2048000,
      "rowLimit": 10000
     },
     "inputWidgets": {},
     "nuid": "819e4673-411d-4839-a03e-b3b7b17422a8",
     "showTitle": false,
     "title": ""
    }
   },
   "outputs": [
    {
     "output_type": "stream",
     "name": "stdout",
     "output_type": "stream",
     "text": [
      "+--------------------+-----+\n|   DRVR_LIC_STATE_ID|count|\n+--------------------+-----+\n|                Utah|   19|\n|              Hawaii|    9|\n|           Minnesota|   27|\n|                Ohio|   46|\n|            Arkansas|  114|\n|              Oregon|   13|\n|               Texas|42138|\n|        North Dakota|    7|\n|        Pennsylvania|   26|\n|         Connecticut|   13|\n|            Nebraska|    9|\n|             Vermont|    3|\n|              Nevada|   27|\n|         Puerto Rico|    4|\n|          Washington|   42|\n|            Illinois|   55|\n|            Oklahoma|  157|\n|             Unknown|  300|\n|District of Columbia|    1|\n|               Other|   80|\n+--------------------+-----+\nonly showing top 20 rows\n\n"
     ]
    }
   ],
   "source": [
    "df_temp1.select(\"DRVR_LIC_STATE_ID\",\"CRASH_ID\").distinct().groupBy(\"DRVR_LIC_STATE_ID\").count().show()"
   ]
  },
  {
   "cell_type": "code",
   "execution_count": 0,
   "metadata": {
    "application/vnd.databricks.v1+cell": {
     "cellMetadata": {
      "byteLimit": 2048000,
      "rowLimit": 10000
     },
     "inputWidgets": {},
     "nuid": "c3abab01-927b-4215-8527-b9db3861103b",
     "showTitle": true,
     "title": "df_temp2 is defined"
    }
   },
   "outputs": [],
   "source": [
    "df_temp2=df_temp1.select(\"DRVR_LIC_STATE_ID\",\"CRASH_ID\").distinct().groupBy(\"DRVR_LIC_STATE_ID\").count()"
   ]
  },
  {
   "cell_type": "markdown",
   "metadata": {
    "application/vnd.databricks.v1+cell": {
     "cellMetadata": {},
     "inputWidgets": {},
     "nuid": "8c29dde1-4428-434d-b786-fff2bef6e443",
     "showTitle": false,
     "title": ""
    }
   },
   "source": [
    "Ordering the states according to their count of crashes and then geting the first record "
   ]
  },
  {
   "cell_type": "code",
   "execution_count": 0,
   "metadata": {
    "application/vnd.databricks.v1+cell": {
     "cellMetadata": {
      "byteLimit": 2048000,
      "rowLimit": 10000
     },
     "inputWidgets": {},
     "nuid": "16564f65-ed68-4306-ab4c-5898c86ec6e0",
     "showTitle": true,
     "title": "ANSWER:"
    }
   },
   "outputs": [
    {
     "output_type": "stream",
     "name": "stdout",
     "output_type": "stream",
     "text": [
      "+-----------------+----------------+\n|DRVR_LIC_STATE_ID|count of crashes|\n+-----------------+----------------+\n|            Texas|           42138|\n+-----------------+----------------+\nonly showing top 1 row\n\n"
     ]
    }
   ],
   "source": [
    "df_temp2.orderBy(desc(\"count\")).withColumnRenamed(\"count\",\"count of crashes\").show(1)"
   ]
  }
 ],
 "metadata": {
  "application/vnd.databricks.v1+notebook": {
   "dashboards": [],
   "language": "python",
   "notebookMetadata": {
    "pythonIndentUnit": 4
   },
   "notebookName": "Q3",
   "widgets": {}
  }
 },
 "nbformat": 4,
 "nbformat_minor": 0
}
