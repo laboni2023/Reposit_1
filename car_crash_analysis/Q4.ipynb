{
 "cells": [
  {
   "cell_type": "markdown",
   "metadata": {
    "application/vnd.databricks.v1+cell": {
     "cellMetadata": {},
     "inputWidgets": {},
     "nuid": "5d41e01e-8026-4f9f-9083-a484622399e1",
     "showTitle": false,
     "title": ""
    }
   },
   "source": [
    "Q4)Which are the Top 5th to 15th VEH_MAKE_IDs that contribute to a largest number of injuries including death"
   ]
  },
  {
   "cell_type": "code",
   "execution_count": 0,
   "metadata": {
    "application/vnd.databricks.v1+cell": {
     "cellMetadata": {
      "byteLimit": 2048000,
      "rowLimit": 10000
     },
     "inputWidgets": {},
     "nuid": "6124b66f-1b0b-41e4-b64a-f9951f584fda",
     "showTitle": false,
     "title": ""
    }
   },
   "outputs": [],
   "source": [
    "from pyspark.sql.functions import *\n",
    "from pyspark.sql.window import *"
   ]
  },
  {
   "cell_type": "code",
   "execution_count": 0,
   "metadata": {
    "application/vnd.databricks.v1+cell": {
     "cellMetadata": {
      "byteLimit": 2048000,
      "rowLimit": 10000
     },
     "inputWidgets": {},
     "nuid": "d0146089-0b29-4df0-9ef1-90bb4fc7ee8d",
     "showTitle": true,
     "title": "Reading Units Dataset"
    }
   },
   "outputs": [],
   "source": [
    "df_units=spark.read.format(\"csv\").option(\"inferschema\",True).option(\"header\",True).load(\"dbfs:/FileStore/Units_use.csv\")"
   ]
  },
  {
   "cell_type": "code",
   "execution_count": 0,
   "metadata": {
    "application/vnd.databricks.v1+cell": {
     "cellMetadata": {
      "byteLimit": 2048000,
      "rowLimit": 10000
     },
     "inputWidgets": {},
     "nuid": "1a431cf5-f909-4882-966f-f2791ffaa645",
     "showTitle": false,
     "title": ""
    }
   },
   "outputs": [
    {
     "output_type": "stream",
     "name": "stdout",
     "output_type": "stream",
     "text": [
      "+-------------------+------------------+--------------+------------------------------+\n|        VEH_MAKE_ID|sum(TOT_INJRY_CNT)|sum(DEATH_CNT)|total_injuries_including_death|\n+-------------------+------------------+--------------+------------------------------+\n|AMERICAN IRON HORSE|                 0|             0|                             0|\n|              ACURA|               317|             3|                           320|\n|              WHITE|                 0|             0|                             0|\n|MOTOR COACH MND INC|                 0|             0|                             0|\n|             PIERCE|                 1|             0|                             1|\n|            PORSCHE|                23|             0|                            23|\n|           WHITEGMC|                 0|             0|                             0|\n|       FREIGHTLINER|               291|             2|                           293|\n|              BUELL|                 2|             1|                             3|\n|           STERLING|                14|             0|                            14|\n|            HYUNDAI|              1098|             5|                          1103|\n|      INTERNATIONAL|               205|             2|                           207|\n|PETER PIRSCH & SONS|                 0|             0|                             0|\n|               FIAT|                30|             0|                            30|\n|                 NA|               605|            71|                           676|\n|             TOYOTA|              4208|            20|                          4228|\n|                RAM|                39|             0|                            39|\n|             SUBARU|               114|             1|                           115|\n|             NISSAN|              3097|            21|                          3118|\n|     IC CORPORATION|                 2|             0|                             2|\n+-------------------+------------------+--------------+------------------------------+\nonly showing top 20 rows\n\n"
     ]
    }
   ],
   "source": [
    "df_units.groupBy(\"VEH_MAKE_ID\").sum(\"TOT_INJRY_CNT\",\"DEATH_CNT\").withColumn(\"total_injuries_including_death\",col(\"sum(TOT_INJRY_CNT)\")+col(\"sum(DEATH_CNT)\")).show()"
   ]
  },
  {
   "cell_type": "code",
   "execution_count": 0,
   "metadata": {
    "application/vnd.databricks.v1+cell": {
     "cellMetadata": {
      "byteLimit": 2048000,
      "rowLimit": 10000
     },
     "inputWidgets": {},
     "nuid": "f950ff05-3e63-4696-b40a-5512aad5051c",
     "showTitle": true,
     "title": "df_temp1 is defined"
    }
   },
   "outputs": [],
   "source": [
    "df_temp1=df_units.groupBy(\"VEH_MAKE_ID\").sum(\"TOT_INJRY_CNT\",\"DEATH_CNT\").withColumn(\"total_injuries_including_death\",col(\"sum(TOT_INJRY_CNT)\")+col(\"sum(DEATH_CNT)\")).select(\"VEH_MAKE_ID\",\"total_injuries_including_death\")"
   ]
  },
  {
   "cell_type": "code",
   "execution_count": 0,
   "metadata": {
    "application/vnd.databricks.v1+cell": {
     "cellMetadata": {
      "byteLimit": 2048000,
      "rowLimit": 10000
     },
     "inputWidgets": {},
     "nuid": "b7a5b5a3-46b3-4351-a9b0-5b7f30559b51",
     "showTitle": false,
     "title": ""
    }
   },
   "outputs": [
    {
     "output_type": "stream",
     "name": "stdout",
     "output_type": "stream",
     "text": [
      "+-------------+------------------------------+\n|  VEH_MAKE_ID|total_injuries_including_death|\n+-------------+------------------------------+\n|    CHEVROLET|                          7024|\n|         FORD|                          6992|\n|       TOYOTA|                          4228|\n|        DODGE|                          3146|\n|       NISSAN|                          3118|\n|        HONDA|                          2892|\n|          GMC|                          1256|\n|      HYUNDAI|                          1103|\n|          KIA|                          1049|\n|         JEEP|                           989|\n|     CHRYSLER|                           956|\n|        MAZDA|                           711|\n|   VOLKSWAGEN|                           582|\n|      PONTIAC|                           564|\n|        LEXUS|                           523|\n|        BUICK|                           521|\n|   MITSUBISHI|                           510|\n|     CADILLAC|                           498|\n|      MERCURY|                           397|\n|MERCEDES-BENZ|                           394|\n+-------------+------------------------------+\nonly showing top 20 rows\n\n"
     ]
    }
   ],
   "source": [
    "df_temp1.orderBy(desc(\"total_injuries_including_death\")).filter(col(\"VEH_MAKE_ID\")!=\"NA\").show()"
   ]
  },
  {
   "cell_type": "code",
   "execution_count": 0,
   "metadata": {
    "application/vnd.databricks.v1+cell": {
     "cellMetadata": {
      "byteLimit": 2048000,
      "rowLimit": 10000
     },
     "inputWidgets": {},
     "nuid": "58bb5132-9e30-42c7-924b-318bf4d5b33a",
     "showTitle": true,
     "title": "df_temp2 is defined"
    }
   },
   "outputs": [],
   "source": [
    "df_temp2=df_temp1.orderBy(desc(\"total_injuries_including_death\")).filter(col(\"VEH_MAKE_ID\")!=\"NA\")"
   ]
  },
  {
   "cell_type": "code",
   "execution_count": 0,
   "metadata": {
    "application/vnd.databricks.v1+cell": {
     "cellMetadata": {
      "byteLimit": 2048000,
      "rowLimit": 10000
     },
     "inputWidgets": {},
     "nuid": "1178aef8-8c7b-4509-a966-9c53c53b5997",
     "showTitle": false,
     "title": ""
    }
   },
   "outputs": [
    {
     "output_type": "stream",
     "name": "stdout",
     "output_type": "stream",
     "text": [
      "+-------------+------------------------------+----+\n|  VEH_MAKE_ID|total_injuries_including_death|rank|\n+-------------+------------------------------+----+\n|    CHEVROLET|                          7024|   1|\n|         FORD|                          6992|   2|\n|       TOYOTA|                          4228|   3|\n|        DODGE|                          3146|   4|\n|       NISSAN|                          3118|   5|\n|        HONDA|                          2892|   6|\n|          GMC|                          1256|   7|\n|      HYUNDAI|                          1103|   8|\n|          KIA|                          1049|   9|\n|         JEEP|                           989|  10|\n|     CHRYSLER|                           956|  11|\n|        MAZDA|                           711|  12|\n|   VOLKSWAGEN|                           582|  13|\n|      PONTIAC|                           564|  14|\n|        LEXUS|                           523|  15|\n|        BUICK|                           521|  16|\n|   MITSUBISHI|                           510|  17|\n|     CADILLAC|                           498|  18|\n|      MERCURY|                           397|  19|\n|MERCEDES-BENZ|                           394|  20|\n+-------------+------------------------------+----+\nonly showing top 20 rows\n\n"
     ]
    }
   ],
   "source": [
    "df_temp2.withColumn(\"rank\",monotonically_increasing_id()+1).show(20)"
   ]
  },
  {
   "cell_type": "code",
   "execution_count": 0,
   "metadata": {
    "application/vnd.databricks.v1+cell": {
     "cellMetadata": {
      "byteLimit": 2048000,
      "rowLimit": 10000
     },
     "inputWidgets": {},
     "nuid": "c5efc837-8799-40d0-8bb8-5d3fe11dcf95",
     "showTitle": true,
     "title": "ANSWER:"
    }
   },
   "outputs": [
    {
     "output_type": "stream",
     "name": "stdout",
     "output_type": "stream",
     "text": [
      "+----+-----------+\n|rank|VEH_MAKE_ID|\n+----+-----------+\n|   5|     NISSAN|\n|   6|      HONDA|\n|   7|        GMC|\n|   8|    HYUNDAI|\n|   9|        KIA|\n|  10|       JEEP|\n|  11|   CHRYSLER|\n|  12|      MAZDA|\n|  13| VOLKSWAGEN|\n|  14|    PONTIAC|\n|  15|      LEXUS|\n+----+-----------+\n\n"
     ]
    }
   ],
   "source": [
    "df_temp2.withColumn(\"rank\",monotonically_increasing_id()+1).filter((col(\"rank\") >=5 ) &(col(\"rank\") <=15 )).select(\"rank\",\"VEH_MAKE_ID\").show()"
   ]
  }
 ],
 "metadata": {
  "application/vnd.databricks.v1+notebook": {
   "dashboards": [],
   "language": "python",
   "notebookMetadata": {
    "pythonIndentUnit": 4
   },
   "notebookName": "Q4",
   "widgets": {}
  }
 },
 "nbformat": 4,
 "nbformat_minor": 0
}
