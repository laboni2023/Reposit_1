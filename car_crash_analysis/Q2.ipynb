{
 "cells": [
  {
   "cell_type": "markdown",
   "metadata": {
    "application/vnd.databricks.v1+cell": {
     "cellMetadata": {
      "byteLimit": 2048000,
      "rowLimit": 10000
     },
     "inputWidgets": {},
     "nuid": "577924b7-73f4-4624-af7d-7b7f08c1d255",
     "showTitle": false,
     "title": ""
    }
   },
   "source": [
    "  Q2)How many two wheelers are booked for crashes? \n",
    "  "
   ]
  },
  {
   "cell_type": "code",
   "execution_count": 0,
   "metadata": {
    "application/vnd.databricks.v1+cell": {
     "cellMetadata": {
      "byteLimit": 2048000,
      "rowLimit": 10000
     },
     "inputWidgets": {},
     "nuid": "834f3f93-c9c4-472f-afb0-60d1eab2ecee",
     "showTitle": false,
     "title": ""
    }
   },
   "outputs": [],
   "source": [
    "from pyspark.sql.functions import *\n",
    "from pyspark.sql.window import *"
   ]
  },
  {
   "cell_type": "code",
   "execution_count": 0,
   "metadata": {
    "application/vnd.databricks.v1+cell": {
     "cellMetadata": {
      "byteLimit": 2048000,
      "rowLimit": 10000
     },
     "inputWidgets": {},
     "nuid": "d4e01f86-6912-4e60-afe8-d9feacee8119",
     "showTitle": true,
     "title": "Reading the Units Dataset"
    }
   },
   "outputs": [],
   "source": [
    "df_units=spark.read.format(\"csv\").option(\"inferschema\",True).option(\"header\",True).load(\"dbfs:/FileStore/Units_use.csv\")"
   ]
  },
  {
   "cell_type": "markdown",
   "metadata": {
    "application/vnd.databricks.v1+cell": {
     "cellMetadata": {},
     "inputWidgets": {},
     "nuid": "5a703dc2-cf2a-49be-8799-3852a8c4a31e",
     "showTitle": false,
     "title": ""
    }
   },
   "source": [
    "Checking all the  styles of vehicles are present  in the dataset "
   ]
  },
  {
   "cell_type": "code",
   "execution_count": 0,
   "metadata": {
    "application/vnd.databricks.v1+cell": {
     "cellMetadata": {
      "byteLimit": 2048000,
      "rowLimit": 10000
     },
     "inputWidgets": {},
     "nuid": "237d0396-5d02-4678-8102-9e9bf1e33f91",
     "showTitle": false,
     "title": ""
    }
   },
   "outputs": [
    {
     "output_type": "stream",
     "name": "stdout",
     "output_type": "stream",
     "text": [
      "+--------------------+\n|    VEH_BODY_STYL_ID|\n+--------------------+\n|                 BUS|\n|                  NA|\n|                 VAN|\n|              PICKUP|\n|SPORT UTILITY VEH...|\n|PASSENGER CAR, 4-...|\n|          FIRE TRUCK|\n|               TRUCK|\n|             UNKNOWN|\n|           AMBULANCE|\n|    POLICE CAR/TRUCK|\n|          MOTORCYCLE|\n|   YELLOW SCHOOL BUS|\n|PASSENGER CAR, 2-...|\n|       TRUCK TRACTOR|\n|      FARM EQUIPMENT|\n|NEV-NEIGHBORHOOD ...|\n|OTHER  (EXPLAIN I...|\n|   POLICE MOTORCYCLE|\n|        NOT REPORTED|\n+--------------------+\n\n"
     ]
    }
   ],
   "source": [
    "df_units.select(\"VEH_BODY_STYL_ID\").distinct().show()"
   ]
  },
  {
   "cell_type": "markdown",
   "metadata": {
    "application/vnd.databricks.v1+cell": {
     "cellMetadata": {},
     "inputWidgets": {},
     "nuid": "53e7e860-b9db-4665-951e-9170248feb4e",
     "showTitle": false,
     "title": ""
    }
   },
   "source": [
    "2 wheeler mainly corresponds to any type of Motorcycle present "
   ]
  },
  {
   "cell_type": "code",
   "execution_count": 0,
   "metadata": {
    "application/vnd.databricks.v1+cell": {
     "cellMetadata": {
      "byteLimit": 2048000,
      "rowLimit": 10000
     },
     "inputWidgets": {},
     "nuid": "5a7894ec-667c-4e2c-a364-dc2fe0c50154",
     "showTitle": false,
     "title": ""
    }
   },
   "outputs": [
    {
     "output_type": "stream",
     "name": "stdout",
     "output_type": "stream",
     "text": [
      "+-----------------+\n| VEH_BODY_STYL_ID|\n+-----------------+\n|       MOTORCYCLE|\n|POLICE MOTORCYCLE|\n+-----------------+\n\n"
     ]
    }
   ],
   "source": [
    "df_units.filter(df_units.VEH_BODY_STYL_ID.like(\"%MOTORCYCLE%\")).select(\"VEH_BODY_STYL_ID\").distinct().show()"
   ]
  },
  {
   "cell_type": "markdown",
   "metadata": {
    "application/vnd.databricks.v1+cell": {
     "cellMetadata": {},
     "inputWidgets": {},
     "nuid": "440ce7a1-8bfc-4278-b053-671b1b465f3d",
     "showTitle": false,
     "title": ""
    }
   },
   "source": [
    "Counting all the types of Motorcycles "
   ]
  },
  {
   "cell_type": "code",
   "execution_count": 0,
   "metadata": {
    "application/vnd.databricks.v1+cell": {
     "cellMetadata": {
      "byteLimit": 2048000,
      "rowLimit": 10000
     },
     "inputWidgets": {},
     "nuid": "7a34bff6-ca34-42fd-b445-8875d03761d5",
     "showTitle": true,
     "title": "ANSWER:"
    }
   },
   "outputs": [
    {
     "output_type": "stream",
     "name": "stdout",
     "output_type": "stream",
     "text": [
      "Out[7]: 784"
     ]
    }
   ],
   "source": [
    "df_units.filter(df_units.VEH_BODY_STYL_ID.like(\"%MOTORCYCLE%\")).count()"
   ]
  }
 ],
 "metadata": {
  "application/vnd.databricks.v1+notebook": {
   "dashboards": [],
   "language": "python",
   "notebookMetadata": {
    "pythonIndentUnit": 4
   },
   "notebookName": "Q2",
   "widgets": {}
  }
 },
 "nbformat": 4,
 "nbformat_minor": 0
}
