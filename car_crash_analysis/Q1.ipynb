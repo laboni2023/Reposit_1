{
 "cells": [
  {
   "cell_type": "markdown",
   "metadata": {
    "application/vnd.databricks.v1+cell": {
     "cellMetadata": {
      "byteLimit": 2048000,
      "rowLimit": 10000
     },
     "inputWidgets": {},
     "nuid": "22bb03d4-7617-49d0-9e60-c5f0bafc74e6",
     "showTitle": false,
     "title": ""
    }
   },
   "source": [
    "Q1) Number of Crashes in which the person killed is male"
   ]
  },
  {
   "cell_type": "code",
   "execution_count": 0,
   "metadata": {
    "application/vnd.databricks.v1+cell": {
     "cellMetadata": {
      "byteLimit": 2048000,
      "rowLimit": 10000
     },
     "inputWidgets": {},
     "nuid": "6d1225cc-c08a-46cb-912e-aeb70e20e44b",
     "showTitle": false,
     "title": ""
    }
   },
   "outputs": [],
   "source": [
    "from pyspark.sql.functions import *\n",
    "from pyspark.sql.window import *"
   ]
  },
  {
   "cell_type": "code",
   "execution_count": 0,
   "metadata": {
    "application/vnd.databricks.v1+cell": {
     "cellMetadata": {
      "byteLimit": 2048000,
      "rowLimit": 10000
     },
     "inputWidgets": {},
     "nuid": "7c33f3fb-d576-4700-8932-1bf6417ec186",
     "showTitle": true,
     "title": "Reading the primary_person dataset"
    }
   },
   "outputs": [],
   "source": [
    "df_prim_person=spark.read.format(\"csv\").option(\"inferschema\",True).option(\"header\",True).load(\"dbfs:/FileStore/Primary_Person_use.csv\")"
   ]
  },
  {
   "cell_type": "markdown",
   "metadata": {
    "application/vnd.databricks.v1+cell": {
     "cellMetadata": {},
     "inputWidgets": {},
     "nuid": "9572bb06-9d4a-4ce7-9b02-e79559e61100",
     "showTitle": false,
     "title": ""
    }
   },
   "source": [
    "Finding how many distinct types of 'severity of injury' exists in the data"
   ]
  },
  {
   "cell_type": "code",
   "execution_count": 0,
   "metadata": {
    "application/vnd.databricks.v1+cell": {
     "cellMetadata": {
      "byteLimit": 2048000,
      "rowLimit": 10000
     },
     "inputWidgets": {},
     "nuid": "d26d8ab5-e224-42af-9600-3e8dc58ff7ee",
     "showTitle": false,
     "title": ""
    }
   },
   "outputs": [
    {
     "output_type": "stream",
     "name": "stdout",
     "output_type": "stream",
     "text": [
      "+--------------------+\n|   PRSN_INJRY_SEV_ID|\n+--------------------+\n|                  NA|\n|              KILLED|\n|             UNKNOWN|\n|NON-INCAPACITATIN...|\n|         NOT INJURED|\n|     POSSIBLE INJURY|\n|INCAPACITATING IN...|\n+--------------------+\n\n"
     ]
    }
   ],
   "source": [
    "df_prim_person.select(\"PRSN_INJRY_SEV_ID\").distinct().show()"
   ]
  },
  {
   "cell_type": "markdown",
   "metadata": {
    "application/vnd.databricks.v1+cell": {
     "cellMetadata": {},
     "inputWidgets": {},
     "nuid": "c5da0906-9be3-432e-977d-314735a1f825",
     "showTitle": false,
     "title": ""
    }
   },
   "source": [
    "Filtering our data base on the conditionas given in our problem statement:\n",
    "(person gender =Male) and (severity of injury = killed)"
   ]
  },
  {
   "cell_type": "code",
   "execution_count": 0,
   "metadata": {
    "application/vnd.databricks.v1+cell": {
     "cellMetadata": {
      "byteLimit": 2048000,
      "rowLimit": 10000
     },
     "inputWidgets": {},
     "nuid": "2d424e21-e9aa-4b58-add9-a98a2d93940a",
     "showTitle": false,
     "title": ""
    }
   },
   "outputs": [],
   "source": [
    "df_temp1=df_prim_person.filter(col(\"PRSN_INJRY_SEV_ID\")==\"KILLED\").filter(col(\"PRSN_GNDR_ID\")==\"MALE\")"
   ]
  },
  {
   "cell_type": "markdown",
   "metadata": {
    "application/vnd.databricks.v1+cell": {
     "cellMetadata": {},
     "inputWidgets": {},
     "nuid": "66aaee79-6c37-4ead-997d-35156daf19bd",
     "showTitle": false,
     "title": ""
    }
   },
   "source": [
    "Finding the distinct crashes satisfying our conditions "
   ]
  },
  {
   "cell_type": "code",
   "execution_count": 0,
   "metadata": {
    "application/vnd.databricks.v1+cell": {
     "cellMetadata": {
      "byteLimit": 2048000,
      "rowLimit": 10000
     },
     "inputWidgets": {},
     "nuid": "c1957be5-3274-478e-ac08-38e43522ee70",
     "showTitle": true,
     "title": "ANSWER:"
    }
   },
   "outputs": [
    {
     "output_type": "stream",
     "name": "stdout",
     "output_type": "stream",
     "text": [
      "Out[6]: 180"
     ]
    }
   ],
   "source": [
    "df_temp1.select(\"CRASH_ID\").distinct().count()"
   ]
  }
 ],
 "metadata": {
  "application/vnd.databricks.v1+notebook": {
   "dashboards": [],
   "language": "python",
   "notebookMetadata": {
    "pythonIndentUnit": 4
   },
   "notebookName": "Q1",
   "widgets": {}
  }
 },
 "nbformat": 4,
 "nbformat_minor": 0
}
