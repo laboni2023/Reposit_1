{
 "cells": [
  {
   "cell_type": "markdown",
   "metadata": {
    "application/vnd.databricks.v1+cell": {
     "cellMetadata": {
      "byteLimit": 2048000,
      "rowLimit": 10000
     },
     "inputWidgets": {},
     "nuid": "e85c0636-5e4e-44af-b683-c63e0a2842e8",
     "showTitle": false,
     "title": ""
    }
   },
   "source": [
    "Q7)Count of Distinct Crash IDs where No Damaged Property was observed and Damage Level (VEH_DMAG_SCL~) is above 4 and car avails Insurance"
   ]
  },
  {
   "cell_type": "code",
   "execution_count": 0,
   "metadata": {
    "application/vnd.databricks.v1+cell": {
     "cellMetadata": {
      "byteLimit": 2048000,
      "rowLimit": 10000
     },
     "inputWidgets": {},
     "nuid": "b8d5c84e-fdba-4fde-8bd8-72380910d30b",
     "showTitle": false,
     "title": ""
    }
   },
   "outputs": [],
   "source": [
    "from pyspark.sql.functions import *\n",
    "from pyspark.sql.window import *"
   ]
  },
  {
   "cell_type": "code",
   "execution_count": 0,
   "metadata": {
    "application/vnd.databricks.v1+cell": {
     "cellMetadata": {
      "byteLimit": 2048000,
      "rowLimit": 10000
     },
     "inputWidgets": {},
     "nuid": "4e680941-0895-40ff-a68d-0af9383c2ec0",
     "showTitle": true,
     "title": "Reading Damages Dataset"
    }
   },
   "outputs": [],
   "source": [
    "df_damages=spark.read.format(\"csv\").option(\"inferschema\",True).option(\"header\",True).load(\"dbfs:/FileStore/Damages_use.csv\")"
   ]
  },
  {
   "cell_type": "code",
   "execution_count": 0,
   "metadata": {
    "application/vnd.databricks.v1+cell": {
     "cellMetadata": {
      "byteLimit": 2048000,
      "rowLimit": 10000
     },
     "inputWidgets": {},
     "nuid": "9c9856e5-0b7a-4b3c-b8b7-932759aa8f64",
     "showTitle": true,
     "title": "Reading Units Dataset"
    }
   },
   "outputs": [],
   "source": [
    "df_units=spark.read.format(\"csv\").option(\"inferschema\",True).option(\"header\",True).load(\"dbfs:/FileStore/Units_use.csv\")"
   ]
  },
  {
   "cell_type": "markdown",
   "metadata": {
    "application/vnd.databricks.v1+cell": {
     "cellMetadata": {
      "byteLimit": 2048000,
      "rowLimit": 10000
     },
     "inputWidgets": {},
     "nuid": "29974b24-9427-451f-b483-bb07cba543f9",
     "showTitle": false,
     "title": ""
    }
   },
   "source": [
    "Checking if our desired condition of no damaged property is present in our dataset "
   ]
  },
  {
   "cell_type": "code",
   "execution_count": 0,
   "metadata": {
    "application/vnd.databricks.v1+cell": {
     "cellMetadata": {
      "byteLimit": 2048000,
      "rowLimit": 10000
     },
     "inputWidgets": {},
     "nuid": "aac451f0-c57c-4bcb-bcac-c34f46e65a49",
     "showTitle": false,
     "title": ""
    }
   },
   "outputs": [
    {
     "output_type": "stream",
     "name": "stdout",
     "output_type": "stream",
     "text": [
      "+--------+----------------+\n|CRASH_ID|DAMAGED_PROPERTY|\n+--------+----------------+\n|14844642|            NONE|\n|14845535|            NONE|\n|14859733|            NONE|\n|14861933|            NONE|\n|14870169|            NONE|\n|14877741|            NONE|\n|14880750|            NONE|\n|14882428|            NONE|\n|14882436|            NONE|\n|14885395|            NONE|\n|14885406|            NONE|\n|14885557|            NONE|\n|14891475|            NONE|\n|14893201|            NONE|\n|14894076|            NONE|\n|14895073|            NONE|\n|14895870|            NONE|\n|14896496|            NONE|\n|14896496|            NONE|\n|14898153|            NONE|\n+--------+----------------+\nonly showing top 20 rows\n\n"
     ]
    }
   ],
   "source": [
    "df_damages.filter(col(\"DAMAGED_PROPERTY\")==\"NONE\").show()"
   ]
  },
  {
   "cell_type": "code",
   "execution_count": 0,
   "metadata": {
    "application/vnd.databricks.v1+cell": {
     "cellMetadata": {
      "byteLimit": 2048000,
      "rowLimit": 10000
     },
     "inputWidgets": {},
     "nuid": "712429d5-b23f-445e-a8cf-bd3bc5bde762",
     "showTitle": true,
     "title": "df_temp1 is defined"
    }
   },
   "outputs": [],
   "source": [
    "df_temp1=df_damages.filter(col(\"DAMAGED_PROPERTY\")==\"NONE\")"
   ]
  },
  {
   "cell_type": "code",
   "execution_count": 0,
   "metadata": {
    "application/vnd.databricks.v1+cell": {
     "cellMetadata": {
      "byteLimit": 2048000,
      "rowLimit": 10000
     },
     "inputWidgets": {},
     "nuid": "b1931266-a191-4975-8e03-f506a947613e",
     "showTitle": true,
     "title": "df_temp2 is defined"
    }
   },
   "outputs": [],
   "source": [
    "df_temp2=df_units.filter((col(\"VEH_DMAG_SCL_1_ID\")==\"DAMAGED 5\" )|(col(\"VEH_DMAG_SCL_1_ID\")==\"DAMAGED 6\")|(col(\"VEH_DMAG_SCL_2_ID\")==\"DAMAGED 5\" )|(col(\"VEH_DMAG_SCL_2_ID\")==\"DAMAGED 6\" )).filter(col(\"VEH_BODY_STYL_ID\").like(\"%CAR%\"))"
   ]
  },
  {
   "cell_type": "markdown",
   "metadata": {
    "application/vnd.databricks.v1+cell": {
     "cellMetadata": {
      "byteLimit": 2048000,
      "rowLimit": 10000
     },
     "inputWidgets": {},
     "nuid": "20cbf597-403f-4c3c-ab8f-dafc82875402",
     "showTitle": false,
     "title": ""
    }
   },
   "source": [
    "Joining df_temp1 and df_temp2 "
   ]
  },
  {
   "cell_type": "code",
   "execution_count": 0,
   "metadata": {
    "application/vnd.databricks.v1+cell": {
     "cellMetadata": {
      "byteLimit": 2048000,
      "rowLimit": 10000
     },
     "inputWidgets": {},
     "nuid": "1365540c-2f78-4f5f-9142-b352c5a2dcd7",
     "showTitle": false,
     "title": ""
    }
   },
   "outputs": [
    {
     "output_type": "stream",
     "name": "stdout",
     "output_type": "stream",
     "text": [
      "+--------+-----------------+--------------------+\n|CRASH_ID|VEH_DMAG_SCL_1_ID|    VEH_BODY_STYL_ID|\n+--------+-----------------+--------------------+\n|15232090|        DAMAGED 5|PASSENGER CAR, 4-...|\n|15249931|        DAMAGED 6|PASSENGER CAR, 4-...|\n|15307513|        DAMAGED 5|PASSENGER CAR, 4-...|\n+--------+-----------------+--------------------+\n\n"
     ]
    }
   ],
   "source": [
    "df_temp2.join(df_temp1,(df_temp2.CRASH_ID==df_temp1.CRASH_ID)).select(df_temp1.CRASH_ID,\"VEH_DMAG_SCL_1_ID\",\"VEH_BODY_STYL_ID\").distinct().show()"
   ]
  },
  {
   "cell_type": "code",
   "execution_count": 0,
   "metadata": {
    "application/vnd.databricks.v1+cell": {
     "cellMetadata": {
      "byteLimit": 2048000,
      "rowLimit": 10000
     },
     "inputWidgets": {},
     "nuid": "018365bf-af0f-44d7-9132-b7fb744ea0ac",
     "showTitle": true,
     "title": "ANSWER:"
    }
   },
   "outputs": [
    {
     "output_type": "stream",
     "name": "stdout",
     "output_type": "stream",
     "text": [
      "Out[24]: 3"
     ]
    }
   ],
   "source": [
    "df_temp2.join(df_temp1,(df_temp2.CRASH_ID==df_temp1.CRASH_ID)).select(df_temp1.CRASH_ID,\"VEH_DMAG_SCL_1_ID\").distinct().count()"
   ]
  }
 ],
 "metadata": {
  "application/vnd.databricks.v1+notebook": {
   "dashboards": [],
   "language": "python",
   "notebookMetadata": {
    "pythonIndentUnit": 4
   },
   "notebookName": "Q7",
   "widgets": {}
  }
 },
 "nbformat": 4,
 "nbformat_minor": 0
}
