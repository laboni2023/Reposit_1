{
 "cells": [
  {
   "cell_type": "markdown",
   "metadata": {
    "application/vnd.databricks.v1+cell": {
     "cellMetadata": {
      "byteLimit": 2048000,
      "rowLimit": 10000
     },
     "inputWidgets": {},
     "nuid": "e85c0636-5e4e-44af-b683-c63e0a2842e8",
     "showTitle": false,
     "title": ""
    }
   },
   "source": [
    "Q7)Count of Distinct Crash IDs where No Damaged Property was observed and Damage Level (VEH_DMAG_SCL~) is above 4 and car avails Insurance"
   ]
  },
  {
   "cell_type": "code",
   "execution_count": 0,
   "metadata": {
    "application/vnd.databricks.v1+cell": {
     "cellMetadata": {
      "byteLimit": 2048000,
      "rowLimit": 10000
     },
     "inputWidgets": {},
     "nuid": "b8d5c84e-fdba-4fde-8bd8-72380910d30b",
     "showTitle": false,
     "title": ""
    }
   },
   "outputs": [],
   "source": [
    "from pyspark.sql.functions import *\n",
    "from pyspark.sql.window import *"
   ]
  },
  {
   "cell_type": "code",
   "execution_count": 0,
   "metadata": {
    "application/vnd.databricks.v1+cell": {
     "cellMetadata": {
      "byteLimit": 2048000,
      "rowLimit": 10000
     },
     "inputWidgets": {},
     "nuid": "4e680941-0895-40ff-a68d-0af9383c2ec0",
     "showTitle": true,
     "title": "Reading Damages Dataset"
    }
   },
   "outputs": [],
   "source": [
    "df_damages=spark.read.format(\"csv\").option(\"inferschema\",True).option(\"header\",True).load(\"dbfs:/FileStore/Damages_use.csv\")"
   ]
  },
  {
   "cell_type": "code",
   "execution_count": 0,
   "metadata": {
    "application/vnd.databricks.v1+cell": {
     "cellMetadata": {
      "byteLimit": 2048000,
      "rowLimit": 10000
     },
     "inputWidgets": {},
     "nuid": "9c9856e5-0b7a-4b3c-b8b7-932759aa8f64",
     "showTitle": true,
     "title": "Reading Units Dataset"
    }
   },
   "outputs": [],
   "source": [
    "df_units=spark.read.format(\"csv\").option(\"inferschema\",True).option(\"header\",True).load(\"dbfs:/FileStore/Units_use.csv\")"
   ]
  },
  {
   "cell_type": "markdown",
   "metadata": {
    "application/vnd.databricks.v1+cell": {
     "cellMetadata": {
      "byteLimit": 2048000,
      "rowLimit": 10000
     },
     "inputWidgets": {},
     "nuid": "29974b24-9427-451f-b483-bb07cba543f9",
     "showTitle": false,
     "title": ""
    }
   },
   "source": [
    "Checking if our desired condition of no damaged property is present in our dataset "
   ]
  },
  {
   "cell_type": "code",
   "execution_count": 0,
   "metadata": {
    "application/vnd.databricks.v1+cell": {
     "cellMetadata": {
      "byteLimit": 2048000,
      "rowLimit": 10000
     },
     "inputWidgets": {},
     "nuid": "aac451f0-c57c-4bcb-bcac-c34f46e65a49",
     "showTitle": false,
     "title": ""
    }
   },
   "outputs": [
    {
     "output_type": "display_data",
     "data": {
      "text/html": [
       "<style scoped>\n",
       "  .table-result-container {\n",
       "    max-height: 300px;\n",
       "    overflow: auto;\n",
       "  }\n",
       "  table, th, td {\n",
       "    border: 1px solid black;\n",
       "    border-collapse: collapse;\n",
       "  }\n",
       "  th, td {\n",
       "    padding: 5px;\n",
       "  }\n",
       "  th {\n",
       "    text-align: left;\n",
       "  }\n",
       "</style><div class='table-result-container'><table class='table-result'><thead style='background-color: white'><tr><th>CRASH_ID</th><th>DAMAGED_PROPERTY</th></tr></thead><tbody><tr><td>14844642</td><td>NONE</td></tr><tr><td>14845535</td><td>NONE</td></tr><tr><td>14859733</td><td>NONE</td></tr><tr><td>14861933</td><td>NONE</td></tr><tr><td>14870169</td><td>NONE</td></tr><tr><td>14877741</td><td>NONE</td></tr><tr><td>14880750</td><td>NONE</td></tr><tr><td>14882428</td><td>NONE</td></tr><tr><td>14882436</td><td>NONE</td></tr><tr><td>14885395</td><td>NONE</td></tr><tr><td>14885406</td><td>NONE</td></tr><tr><td>14885557</td><td>NONE</td></tr><tr><td>14891475</td><td>NONE</td></tr><tr><td>14893201</td><td>NONE</td></tr><tr><td>14894076</td><td>NONE</td></tr><tr><td>14895073</td><td>NONE</td></tr><tr><td>14895870</td><td>NONE</td></tr><tr><td>14896496</td><td>NONE</td></tr><tr><td>14896496</td><td>NONE</td></tr><tr><td>14898153</td><td>NONE</td></tr><tr><td>14910974</td><td>NONE</td></tr><tr><td>14916645</td><td>NONE</td></tr><tr><td>14942607</td><td>NONE</td></tr><tr><td>14942942</td><td>NONE</td></tr><tr><td>14946924</td><td>NONE</td></tr><tr><td>14947510</td><td>NONE</td></tr><tr><td>14963280</td><td>NONE</td></tr><tr><td>14998952</td><td>NONE</td></tr><tr><td>14944624</td><td>NONE</td></tr><tr><td>14974931</td><td>NONE</td></tr><tr><td>14985304</td><td>NONE</td></tr><tr><td>14985306</td><td>NONE</td></tr><tr><td>14985343</td><td>NONE</td></tr><tr><td>14989187</td><td>NONE</td></tr><tr><td>14989187</td><td>NONE</td></tr><tr><td>14990852</td><td>NONE</td></tr><tr><td>14996273</td><td>NONE</td></tr><tr><td>15015212</td><td>NONE</td></tr><tr><td>15025357</td><td>NONE</td></tr><tr><td>15039051</td><td>NONE</td></tr><tr><td>15050334</td><td>NONE</td></tr><tr><td>15053174</td><td>NONE</td></tr><tr><td>15053142</td><td>NONE</td></tr><tr><td>15068359</td><td>NONE</td></tr><tr><td>15090065</td><td>NONE</td></tr><tr><td>15096637</td><td>NONE</td></tr><tr><td>15099872</td><td>NONE</td></tr><tr><td>15103028</td><td>NONE</td></tr><tr><td>15124990</td><td>NONE</td></tr><tr><td>15124990</td><td>NONE</td></tr><tr><td>15145055</td><td>NONE</td></tr><tr><td>15150035</td><td>NONE</td></tr><tr><td>15156636</td><td>NONE</td></tr><tr><td>15156641</td><td>NONE</td></tr><tr><td>15160236</td><td>NONE</td></tr><tr><td>15161560</td><td>NONE</td></tr><tr><td>15164957</td><td>NONE</td></tr><tr><td>15178859</td><td>NONE</td></tr><tr><td>15197922</td><td>NONE</td></tr><tr><td>15206176</td><td>NONE</td></tr><tr><td>15206216</td><td>NONE</td></tr><tr><td>15206221</td><td>NONE</td></tr><tr><td>15209187</td><td>NONE</td></tr><tr><td>15211853</td><td>NONE</td></tr><tr><td>15221020</td><td>NONE</td></tr><tr><td>15224648</td><td>NONE</td></tr><tr><td>15225687</td><td>NONE</td></tr><tr><td>15231804</td><td>NONE</td></tr><tr><td>15232090</td><td>NONE</td></tr><tr><td>15232723</td><td>NONE</td></tr><tr><td>15237982</td><td>NONE</td></tr><tr><td>15242875</td><td>NONE</td></tr><tr><td>15242875</td><td>NONE</td></tr><tr><td>15249931</td><td>NONE</td></tr><tr><td>15255328</td><td>NONE</td></tr><tr><td>15261391</td><td>NONE</td></tr><tr><td>15307513</td><td>NONE</td></tr><tr><td>15315611</td><td>NONE</td></tr><tr><td>15327800</td><td>NONE</td></tr><tr><td>15337626</td><td>NONE</td></tr><tr><td>15337626</td><td>NONE</td></tr><tr><td>15342050</td><td>NONE</td></tr><tr><td>15357078</td><td>NONE</td></tr><tr><td>15380998</td><td>NONE</td></tr><tr><td>15381646</td><td>NONE</td></tr><tr><td>15397350</td><td>NONE</td></tr><tr><td>15399658</td><td>NONE</td></tr><tr><td>15426568</td><td>NONE</td></tr><tr><td>15437213</td><td>NONE</td></tr><tr><td>15450751</td><td>NONE</td></tr><tr><td>15454348</td><td>NONE</td></tr><tr><td>15615192</td><td>NONE</td></tr><tr><td>15628296</td><td>NONE</td></tr></tbody></table></div>"
      ]
     },
     "metadata": {
      "application/vnd.databricks.v1+output": {
       "addedWidgets": {},
       "aggData": [],
       "aggError": "",
       "aggOverflow": false,
       "aggSchema": [],
       "aggSeriesLimitReached": false,
       "aggType": "",
       "arguments": {},
       "columnCustomDisplayInfos": {},
       "data": [
        [
         14844642,
         "NONE"
        ],
        [
         14845535,
         "NONE"
        ],
        [
         14859733,
         "NONE"
        ],
        [
         14861933,
         "NONE"
        ],
        [
         14870169,
         "NONE"
        ],
        [
         14877741,
         "NONE"
        ],
        [
         14880750,
         "NONE"
        ],
        [
         14882428,
         "NONE"
        ],
        [
         14882436,
         "NONE"
        ],
        [
         14885395,
         "NONE"
        ],
        [
         14885406,
         "NONE"
        ],
        [
         14885557,
         "NONE"
        ],
        [
         14891475,
         "NONE"
        ],
        [
         14893201,
         "NONE"
        ],
        [
         14894076,
         "NONE"
        ],
        [
         14895073,
         "NONE"
        ],
        [
         14895870,
         "NONE"
        ],
        [
         14896496,
         "NONE"
        ],
        [
         14896496,
         "NONE"
        ],
        [
         14898153,
         "NONE"
        ],
        [
         14910974,
         "NONE"
        ],
        [
         14916645,
         "NONE"
        ],
        [
         14942607,
         "NONE"
        ],
        [
         14942942,
         "NONE"
        ],
        [
         14946924,
         "NONE"
        ],
        [
         14947510,
         "NONE"
        ],
        [
         14963280,
         "NONE"
        ],
        [
         14998952,
         "NONE"
        ],
        [
         14944624,
         "NONE"
        ],
        [
         14974931,
         "NONE"
        ],
        [
         14985304,
         "NONE"
        ],
        [
         14985306,
         "NONE"
        ],
        [
         14985343,
         "NONE"
        ],
        [
         14989187,
         "NONE"
        ],
        [
         14989187,
         "NONE"
        ],
        [
         14990852,
         "NONE"
        ],
        [
         14996273,
         "NONE"
        ],
        [
         15015212,
         "NONE"
        ],
        [
         15025357,
         "NONE"
        ],
        [
         15039051,
         "NONE"
        ],
        [
         15050334,
         "NONE"
        ],
        [
         15053174,
         "NONE"
        ],
        [
         15053142,
         "NONE"
        ],
        [
         15068359,
         "NONE"
        ],
        [
         15090065,
         "NONE"
        ],
        [
         15096637,
         "NONE"
        ],
        [
         15099872,
         "NONE"
        ],
        [
         15103028,
         "NONE"
        ],
        [
         15124990,
         "NONE"
        ],
        [
         15124990,
         "NONE"
        ],
        [
         15145055,
         "NONE"
        ],
        [
         15150035,
         "NONE"
        ],
        [
         15156636,
         "NONE"
        ],
        [
         15156641,
         "NONE"
        ],
        [
         15160236,
         "NONE"
        ],
        [
         15161560,
         "NONE"
        ],
        [
         15164957,
         "NONE"
        ],
        [
         15178859,
         "NONE"
        ],
        [
         15197922,
         "NONE"
        ],
        [
         15206176,
         "NONE"
        ],
        [
         15206216,
         "NONE"
        ],
        [
         15206221,
         "NONE"
        ],
        [
         15209187,
         "NONE"
        ],
        [
         15211853,
         "NONE"
        ],
        [
         15221020,
         "NONE"
        ],
        [
         15224648,
         "NONE"
        ],
        [
         15225687,
         "NONE"
        ],
        [
         15231804,
         "NONE"
        ],
        [
         15232090,
         "NONE"
        ],
        [
         15232723,
         "NONE"
        ],
        [
         15237982,
         "NONE"
        ],
        [
         15242875,
         "NONE"
        ],
        [
         15242875,
         "NONE"
        ],
        [
         15249931,
         "NONE"
        ],
        [
         15255328,
         "NONE"
        ],
        [
         15261391,
         "NONE"
        ],
        [
         15307513,
         "NONE"
        ],
        [
         15315611,
         "NONE"
        ],
        [
         15327800,
         "NONE"
        ],
        [
         15337626,
         "NONE"
        ],
        [
         15337626,
         "NONE"
        ],
        [
         15342050,
         "NONE"
        ],
        [
         15357078,
         "NONE"
        ],
        [
         15380998,
         "NONE"
        ],
        [
         15381646,
         "NONE"
        ],
        [
         15397350,
         "NONE"
        ],
        [
         15399658,
         "NONE"
        ],
        [
         15426568,
         "NONE"
        ],
        [
         15437213,
         "NONE"
        ],
        [
         15450751,
         "NONE"
        ],
        [
         15454348,
         "NONE"
        ],
        [
         15615192,
         "NONE"
        ],
        [
         15628296,
         "NONE"
        ]
       ],
       "datasetInfos": [],
       "dbfsResultPath": null,
       "isJsonSchema": true,
       "metadata": {},
       "overflow": false,
       "plotOptions": {
        "customPlotOptions": {},
        "displayType": "table",
        "pivotAggregation": null,
        "pivotColumns": null,
        "xColumns": null,
        "yColumns": null
       },
       "removedWidgets": [],
       "schema": [
        {
         "metadata": "{}",
         "name": "CRASH_ID",
         "type": "\"integer\""
        },
        {
         "metadata": "{}",
         "name": "DAMAGED_PROPERTY",
         "type": "\"string\""
        }
       ],
       "type": "table"
      }
     },
     "output_type": "display_data"
    }
   ],
   "source": [
    "display(df_damages.filter(col(\"DAMAGED_PROPERTY\")==\"NONE\"))"
   ]
  },
  {
   "cell_type": "code",
   "execution_count": 0,
   "metadata": {
    "application/vnd.databricks.v1+cell": {
     "cellMetadata": {
      "byteLimit": 2048000,
      "rowLimit": 10000
     },
     "inputWidgets": {},
     "nuid": "712429d5-b23f-445e-a8cf-bd3bc5bde762",
     "showTitle": true,
     "title": "df_temp1 is defined"
    }
   },
   "outputs": [],
   "source": [
    "df_temp1=df_damages.filter(col(\"DAMAGED_PROPERTY\")==\"NONE\")"
   ]
  },
  {
   "cell_type": "code",
   "execution_count": 0,
   "metadata": {
    "application/vnd.databricks.v1+cell": {
     "cellMetadata": {
      "byteLimit": 2048000,
      "rowLimit": 10000
     },
     "inputWidgets": {},
     "nuid": "b1931266-a191-4975-8e03-f506a947613e",
     "showTitle": true,
     "title": "df_temp2 is defined"
    }
   },
   "outputs": [],
   "source": [
    "df_temp2=df_units.filter((col(\"VEH_DMAG_SCL_1_ID\")==\"DAMAGED 5\" )|(col(\"VEH_DMAG_SCL_1_ID\")==\"DAMAGED 6\")|(col(\"VEH_DMAG_SCL_2_ID\")==\"DAMAGED 5\" )|(col(\"VEH_DMAG_SCL_2_ID\")==\"DAMAGED 6\" )).filter(col(\"VEH_BODY_STYL_ID\").like(\"%CAR%\"))"
   ]
  },
  {
   "cell_type": "markdown",
   "metadata": {
    "application/vnd.databricks.v1+cell": {
     "cellMetadata": {
      "byteLimit": 2048000,
      "rowLimit": 10000
     },
     "inputWidgets": {},
     "nuid": "20cbf597-403f-4c3c-ab8f-dafc82875402",
     "showTitle": false,
     "title": ""
    }
   },
   "source": [
    "Joining df_temp1 and df_temp2 "
   ]
  },
  {
   "cell_type": "code",
   "execution_count": 0,
   "metadata": {
    "application/vnd.databricks.v1+cell": {
     "cellMetadata": {
      "byteLimit": 2048000,
      "rowLimit": 10000
     },
     "inputWidgets": {},
     "nuid": "1365540c-2f78-4f5f-9142-b352c5a2dcd7",
     "showTitle": false,
     "title": ""
    }
   },
   "outputs": [
    {
     "output_type": "stream",
     "name": "stdout",
     "output_type": "stream",
     "text": [
      "+--------+-----------------+--------------------+\n|CRASH_ID|VEH_DMAG_SCL_1_ID|    VEH_BODY_STYL_ID|\n+--------+-----------------+--------------------+\n|15232090|        DAMAGED 5|PASSENGER CAR, 4-...|\n|15249931|        DAMAGED 6|PASSENGER CAR, 4-...|\n|15307513|        DAMAGED 5|PASSENGER CAR, 4-...|\n+--------+-----------------+--------------------+\n\n"
     ]
    }
   ],
   "source": [
    "df_temp2.join(df_temp1,(df_temp2.CRASH_ID==df_temp1.CRASH_ID)).select(df_temp1.CRASH_ID,\"VEH_DMAG_SCL_1_ID\",\"VEH_BODY_STYL_ID\").distinct().show()"
   ]
  },
  {
   "cell_type": "code",
   "execution_count": 0,
   "metadata": {
    "application/vnd.databricks.v1+cell": {
     "cellMetadata": {
      "byteLimit": 2048000,
      "rowLimit": 10000
     },
     "inputWidgets": {},
     "nuid": "018365bf-af0f-44d7-9132-b7fb744ea0ac",
     "showTitle": true,
     "title": "ANSWER:"
    }
   },
   "outputs": [
    {
     "output_type": "stream",
     "name": "stdout",
     "output_type": "stream",
     "text": [
      "Out[16]: 3"
     ]
    }
   ],
   "source": [
    "df_temp2.join(df_temp1,(df_temp2.CRASH_ID==df_temp1.CRASH_ID)).select(df_temp1.CRASH_ID,\"VEH_DMAG_SCL_1_ID\").distinct().count()"
   ]
  }
 ],
 "metadata": {
  "application/vnd.databricks.v1+notebook": {
   "dashboards": [],
   "language": "python",
   "notebookMetadata": {
    "pythonIndentUnit": 4
   },
   "notebookName": "Q7",
   "widgets": {}
  }
 },
 "nbformat": 4,
 "nbformat_minor": 0
}
